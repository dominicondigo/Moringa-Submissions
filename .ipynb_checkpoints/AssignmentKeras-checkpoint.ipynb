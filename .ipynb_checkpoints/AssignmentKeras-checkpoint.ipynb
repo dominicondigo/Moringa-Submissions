{
 "cells": [
  {
   "cell_type": "code",
   "execution_count": null,
   "metadata": {
    "collapsed": true
   },
   "outputs": [],
   "source": [
    "from __future__ import print_function\n",
    "import pandas as pd\n",
    "import keras\n",
    "from keras.models import Sequential\n",
    "from keras.layers import Dense, InputLayer, Activation\n",
    "from keras.optimizers import RMSprop, Adam\n",
    "from keras import backend as K"
   ]
  },
  {
   "cell_type": "markdown",
   "metadata": {},
   "source": [
    "Let's read data from our csv and store it in a data frame named df. We then need to split up our data into an X array that contains the features to train on, and a Y array with the target variable, in this case the 'Class' column."
   ]
  },
  {
   "cell_type": "code",
   "execution_count": 12,
   "metadata": {},
   "outputs": [],
   "source": [
    "df = pd.read_csv('prima_indians.csv')\n",
    "\n",
    "# df.columns\n",
    "\n",
    "X = df[['number of time pregnant', ' plasma glucose',\n",
    "       ' diastolic blood pressure', ' tricepts skinfold thickness',\n",
    "       ' 2 hour serum insulin', ' BMI', ' Diabetes pedigree function', ' Age']]\n",
    "\n",
    "Y = df[' Class']"
   ]
  },
  {
   "cell_type": "markdown",
   "metadata": {},
   "source": [
    "We then create our Keras model and add the two layers."
   ]
  },
  {
   "cell_type": "code",
   "execution_count": 13,
   "metadata": {},
   "outputs": [
    {
     "name": "stdout",
     "output_type": "stream",
     "text": [
      "_________________________________________________________________\n",
      "Layer (type)                 Output Shape              Param #   \n",
      "=================================================================\n",
      "dense_1 (Dense)              (None, 45)                405       \n",
      "_________________________________________________________________\n",
      "dense_2 (Dense)              (None, 1)                 46        \n",
      "=================================================================\n",
      "Total params: 451\n",
      "Trainable params: 451\n",
      "Non-trainable params: 0\n",
      "_________________________________________________________________\n"
     ]
    }
   ],
   "source": [
    "# create model, add dense layers one by one specifying activation function\n",
    "model = Sequential()\n",
    "model.add(Dense(45, input_dim=8, activation='sigmoid')) # input layer requires input_dim param\n",
    "model.add(Dense(1, activation='sigmoid')) # sigmoid instead of relu for final probability between 0 and 1\n",
    "model.summary() #Shows the summary of your model design. Use this a lot."
   ]
  },
  {
   "cell_type": "markdown",
   "metadata": {},
   "source": [
    "We then compile the model using the adam gradient descent."
   ]
  },
  {
   "cell_type": "code",
   "execution_count": 14,
   "metadata": {
    "collapsed": true
   },
   "outputs": [],
   "source": [
    "model.compile(loss='binary_crossentropy',optimizer='adam', metrics=['accuracy'])"
   ]
  },
  {
   "cell_type": "markdown",
   "metadata": {},
   "source": [
    "We now train the model/network on X and Y data which we declared above."
   ]
  },
  {
   "cell_type": "code",
   "execution_count": 18,
   "metadata": {},
   "outputs": [
    {
     "name": "stdout",
     "output_type": "stream",
     "text": [
      "Epoch 1/20\n",
      "768/768 [==============================] - 0s 168us/step - loss: 0.5460 - acc: 0.7227\n",
      "Epoch 2/20\n",
      "768/768 [==============================] - 0s 156us/step - loss: 0.5440 - acc: 0.7305\n",
      "Epoch 3/20\n",
      "768/768 [==============================] - 0s 155us/step - loss: 0.5414 - acc: 0.7318\n",
      "Epoch 4/20\n",
      "768/768 [==============================] - 0s 171us/step - loss: 0.5434 - acc: 0.7318\n",
      "Epoch 5/20\n",
      "768/768 [==============================] - 0s 177us/step - loss: 0.5387 - acc: 0.7331\n",
      "Epoch 6/20\n",
      "768/768 [==============================] - 0s 158us/step - loss: 0.5427 - acc: 0.7240\n",
      "Epoch 7/20\n",
      "768/768 [==============================] - 0s 177us/step - loss: 0.5385 - acc: 0.7305\n",
      "Epoch 8/20\n",
      "768/768 [==============================] - 0s 166us/step - loss: 0.5413 - acc: 0.7279\n",
      "Epoch 9/20\n",
      "768/768 [==============================] - 0s 168us/step - loss: 0.5352 - acc: 0.7383\n",
      "Epoch 10/20\n",
      "768/768 [==============================] - 0s 314us/step - loss: 0.5328 - acc: 0.7409\n",
      "Epoch 11/20\n",
      "768/768 [==============================] - 0s 245us/step - loss: 0.5325 - acc: 0.7318\n",
      "Epoch 12/20\n",
      "768/768 [==============================] - 0s 201us/step - loss: 0.5384 - acc: 0.7253\n",
      "Epoch 13/20\n",
      "768/768 [==============================] - 0s 312us/step - loss: 0.5345 - acc: 0.7318\n",
      "Epoch 14/20\n",
      "768/768 [==============================] - 0s 164us/step - loss: 0.5341 - acc: 0.7396\n",
      "Epoch 15/20\n",
      "768/768 [==============================] - 0s 168us/step - loss: 0.5296 - acc: 0.7292\n",
      "Epoch 16/20\n",
      "768/768 [==============================] - 0s 167us/step - loss: 0.5302 - acc: 0.7344\n",
      "Epoch 17/20\n",
      "768/768 [==============================] - 0s 164us/step - loss: 0.5296 - acc: 0.7487\n",
      "Epoch 18/20\n",
      "768/768 [==============================] - 0s 169us/step - loss: 0.5295 - acc: 0.7305\n",
      "Epoch 19/20\n",
      "768/768 [==============================] - 0s 174us/step - loss: 0.5297 - acc: 0.7409\n",
      "Epoch 20/20\n",
      "768/768 [==============================] - 0s 168us/step - loss: 0.5271 - acc: 0.7331\n"
     ]
    },
    {
     "data": {
      "text/plain": [
       "<keras.callbacks.History at 0x11bb96358>"
      ]
     },
     "execution_count": 18,
     "metadata": {},
     "output_type": "execute_result"
    }
   ],
   "source": [
    "model.fit(X, Y, epochs = 20, batch_size=10)"
   ]
  },
  {
   "cell_type": "markdown",
   "metadata": {},
   "source": [
    "We now evaluate our model and view the accuracy of the model (how our model performed against the data we trained it on)."
   ]
  },
  {
   "cell_type": "code",
   "execution_count": 23,
   "metadata": {},
   "outputs": [
    {
     "name": "stdout",
     "output_type": "stream",
     "text": [
      "768/768 [==============================] - 0s 52us/step\n",
      "Test loss: 0.5220504576961199\n",
      "Test accuracy: 0.7578125\n",
      "Test accuracy %: 75.78125\n"
     ]
    }
   ],
   "source": [
    "# evaluate the model\n",
    "score = model.evaluate(X, Y)\n",
    "print('Test loss:', score[0])\n",
    "print('Test accuracy:', score[1])\n",
    "print('Test accuracy %:', score[1]*100)"
   ]
  }
 ],
 "metadata": {
  "kernelspec": {
   "display_name": "Python 3",
   "language": "python",
   "name": "python3"
  },
  "language_info": {
   "codemirror_mode": {
    "name": "ipython",
    "version": 3
   },
   "file_extension": ".py",
   "mimetype": "text/x-python",
   "name": "python",
   "nbconvert_exporter": "python",
   "pygments_lexer": "ipython3",
   "version": "3.6.1"
  }
 },
 "nbformat": 4,
 "nbformat_minor": 2
}
