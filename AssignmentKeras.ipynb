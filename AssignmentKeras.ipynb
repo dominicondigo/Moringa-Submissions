{
 "cells": [
  {
   "cell_type": "code",
   "execution_count": 141,
   "metadata": {},
   "outputs": [],
   "source": [
    "from __future__ import print_function\n",
    "import pandas as pd\n",
    "import keras\n",
    "from keras.models import Sequential\n",
    "from keras.layers import Dense, InputLayer, Activation\n",
    "from keras.optimizers import RMSprop, Adam\n",
    "from keras import backend as K"
   ]
  },
  {
   "cell_type": "code",
   "execution_count": 142,
   "metadata": {},
   "outputs": [],
   "source": [
    "df = pd.read_csv('prima_indians.csv')\n",
    "\n",
    "# df.columns\n",
    "\n",
    "# print(df.to_string(header=False, index=False))\n",
    "\n",
    "X = df.iloc[:,[0,1,2,3,4,5,6,7]]\n",
    "\n",
    "Y = df.iloc[:,[8]]"
   ]
  },
  {
   "cell_type": "code",
   "execution_count": 143,
   "metadata": {},
   "outputs": [
    {
     "name": "stdout",
     "output_type": "stream",
     "text": [
      "_________________________________________________________________\n",
      "Layer (type)                 Output Shape              Param #   \n",
      "=================================================================\n",
      "dense_20 (Dense)             (None, 45)                405       \n",
      "_________________________________________________________________\n",
      "dense_21 (Dense)             (None, 1)                 46        \n",
      "=================================================================\n",
      "Total params: 451\n",
      "Trainable params: 451\n",
      "Non-trainable params: 0\n",
      "_________________________________________________________________\n"
     ]
    }
   ],
   "source": [
    "# create model, add dense layers one by one specifying activation function\n",
    "model = Sequential()\n",
    "model.add(Dense(45, input_dim=8, activation='sigmoid')) # input layer requires input_dim param\n",
    "model.add(Dense(1, activation='sigmoid')) # sigmoid instead of relu for final probability between 0 and 1\n",
    "model.summary() #Shows the summary of your model design. Use this a lot."
   ]
  },
  {
   "cell_type": "code",
   "execution_count": 144,
   "metadata": {
    "collapsed": true
   },
   "outputs": [],
   "source": [
    "model.compile(loss='binary_crossentropy',optimizer='adam', metrics=['accuracy'])"
   ]
  },
  {
   "cell_type": "code",
   "execution_count": 145,
   "metadata": {},
   "outputs": [
    {
     "name": "stdout",
     "output_type": "stream",
     "text": [
      "Epoch 1/30\n",
      "768/768 [==============================] - 1s 778us/step - loss: 0.6289 - acc: 0.6510\n",
      "Epoch 2/30\n",
      "768/768 [==============================] - 0s 174us/step - loss: 0.6121 - acc: 0.6654\n",
      "Epoch 3/30\n",
      "768/768 [==============================] - 0s 192us/step - loss: 0.5984 - acc: 0.6706\n",
      "Epoch 4/30\n",
      "768/768 [==============================] - 0s 195us/step - loss: 0.5907 - acc: 0.6745\n",
      "Epoch 5/30\n",
      "768/768 [==============================] - 0s 255us/step - loss: 0.5860 - acc: 0.6862\n",
      "Epoch 6/30\n",
      "768/768 [==============================] - 0s 185us/step - loss: 0.5805 - acc: 0.6953\n",
      "Epoch 7/30\n",
      "768/768 [==============================] - 0s 182us/step - loss: 0.5773 - acc: 0.6992\n",
      "Epoch 8/30\n",
      "768/768 [==============================] - 0s 174us/step - loss: 0.5741 - acc: 0.7005\n",
      "Epoch 9/30\n",
      "768/768 [==============================] - 0s 174us/step - loss: 0.5751 - acc: 0.6901\n",
      "Epoch 10/30\n",
      "768/768 [==============================] - 0s 175us/step - loss: 0.5693 - acc: 0.7044\n",
      "Epoch 11/30\n",
      "768/768 [==============================] - 0s 444us/step - loss: 0.5689 - acc: 0.7122\n",
      "Epoch 12/30\n",
      "768/768 [==============================] - 0s 320us/step - loss: 0.5642 - acc: 0.7148\n",
      "Epoch 13/30\n",
      "768/768 [==============================] - 0s 299us/step - loss: 0.5611 - acc: 0.7148\n",
      "Epoch 14/30\n",
      "768/768 [==============================] - 0s 397us/step - loss: 0.5608 - acc: 0.7135\n",
      "Epoch 15/30\n",
      "768/768 [==============================] - 0s 277us/step - loss: 0.5605 - acc: 0.7070\n",
      "Epoch 16/30\n",
      "768/768 [==============================] - 0s 258us/step - loss: 0.5575 - acc: 0.7070\n",
      "Epoch 17/30\n",
      "768/768 [==============================] - 0s 216us/step - loss: 0.5574 - acc: 0.7227\n",
      "Epoch 18/30\n",
      "768/768 [==============================] - 0s 194us/step - loss: 0.5555 - acc: 0.7109\n",
      "Epoch 19/30\n",
      "768/768 [==============================] - 0s 183us/step - loss: 0.5522 - acc: 0.7083\n",
      "Epoch 20/30\n",
      "768/768 [==============================] - 0s 251us/step - loss: 0.5510 - acc: 0.7109\n",
      "Epoch 21/30\n",
      "768/768 [==============================] - 0s 198us/step - loss: 0.5477 - acc: 0.7279\n",
      "Epoch 22/30\n",
      "768/768 [==============================] - 0s 325us/step - loss: 0.5498 - acc: 0.7266\n",
      "Epoch 23/30\n",
      "768/768 [==============================] - 0s 330us/step - loss: 0.5465 - acc: 0.7201\n",
      "Epoch 24/30\n",
      "768/768 [==============================] - 0s 286us/step - loss: 0.5461 - acc: 0.7174\n",
      "Epoch 25/30\n",
      "768/768 [==============================] - 0s 192us/step - loss: 0.5456 - acc: 0.7227\n",
      "Epoch 26/30\n",
      "768/768 [==============================] - 0s 186us/step - loss: 0.5415 - acc: 0.7305\n",
      "Epoch 27/30\n",
      "768/768 [==============================] - 0s 186us/step - loss: 0.5453 - acc: 0.7279\n",
      "Epoch 28/30\n",
      "768/768 [==============================] - 0s 235us/step - loss: 0.5412 - acc: 0.7253\n",
      "Epoch 29/30\n",
      "768/768 [==============================] - 0s 436us/step - loss: 0.5407 - acc: 0.7318\n",
      "Epoch 30/30\n",
      "768/768 [==============================] - 0s 496us/step - loss: 0.5393 - acc: 0.7240\n"
     ]
    },
    {
     "data": {
      "text/plain": [
       "<keras.callbacks.History at 0x1216337b8>"
      ]
     },
     "execution_count": 145,
     "metadata": {},
     "output_type": "execute_result"
    }
   ],
   "source": [
    "model.fit(X, Y, epochs = 30, batch_size=10)"
   ]
  },
  {
   "cell_type": "code",
   "execution_count": 146,
   "metadata": {},
   "outputs": [
    {
     "name": "stdout",
     "output_type": "stream",
     "text": [
      "768/768 [==============================] - 0s 253us/step\n"
     ]
    }
   ],
   "source": [
    "# evaluate the model\n",
    "score = model.evaluate(X, Y)"
   ]
  },
  {
   "cell_type": "code",
   "execution_count": 147,
   "metadata": {},
   "outputs": [
    {
     "name": "stdout",
     "output_type": "stream",
     "text": [
      "Test loss: 0.5292647915581862\n",
      "Test accuracy: 0.7447916666666666\n",
      "\n",
      "acc: 74.48%\n"
     ]
    }
   ],
   "source": [
    "print('Test loss:', score[0])\n",
    "print('Test accuracy:', score[1])\n",
    "print(\"\\n%s: %.2f%%\" % (model.metrics_names[1], score[1]*100))"
   ]
  }
 ],
 "metadata": {
  "kernelspec": {
   "display_name": "Python 3",
   "language": "python",
   "name": "python3"
  },
  "language_info": {
   "codemirror_mode": {
    "name": "ipython",
    "version": 3
   },
   "file_extension": ".py",
   "mimetype": "text/x-python",
   "name": "python",
   "nbconvert_exporter": "python",
   "pygments_lexer": "ipython3",
   "version": "3.6.1"
  }
 },
 "nbformat": 4,
 "nbformat_minor": 2
}
